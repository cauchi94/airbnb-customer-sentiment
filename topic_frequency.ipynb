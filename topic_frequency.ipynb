{
 "cells": [
  {
   "cell_type": "markdown",
   "metadata": {},
   "source": [
    "### Topic Frequency Calculator\n",
    "> - Import 3 datasets:  Topic list, Reviews, Listings \n",
    "> - Preprocess the words in the same way we did for the model section \n",
    "> - Build the frequency counter and evaluate frequency per topic per listing and save the frequencies in a dataframe\n",
    "> - Filter the listings based on the average frequency keeping only the ones in a specified range to ensure a smoother further analysis\n",
    "> - Merge the frequencies with the listings dataset using Listing ID\n",
    "> - Save the obtained dataframe for further analysis"
   ]
  },
  {
   "cell_type": "markdown",
   "metadata": {},
   "source": [
    "### Step 1: Imports\n"
   ]
  },
  {
   "cell_type": "code",
   "execution_count": 4,
   "metadata": {},
   "outputs": [],
   "source": [
    "import pandas as pd"
   ]
  },
  {
   "cell_type": "code",
   "execution_count": 3,
   "metadata": {},
   "outputs": [],
   "source": [
    "#Import data\n",
    "topics= pd.read_csv('C:/Users/chris/Desktop/topics_extended_stopwords.csv').drop([\"Unnamed: 0\"], axis=1)\n",
    "reviews=pd.read_csv('C:/Users/chris/Desktop/reviews.csv')\n",
    "listings=pd.read_csv('C:/Users/chris/Desktop/listings.csv')"
   ]
  },
  {
   "cell_type": "code",
   "execution_count": 4,
   "metadata": {},
   "outputs": [],
   "source": [
    "#Create sample to test the functions (now disabled, for simplicity i just called the entire df as the sample to not change all the code)\n",
    "reviews_sample=reviews.sort_values(by=[\"listing_id\"])#.iloc[100:10000]"
   ]
  },
  {
   "cell_type": "markdown",
   "metadata": {},
   "source": [
    "### Step 2: Preprocessing"
   ]
  },
  {
   "cell_type": "code",
   "execution_count": 5,
   "metadata": {},
   "outputs": [],
   "source": [
    "#preprocess words\n",
    "import re\n",
    "reviews_sample.drop(columns=['id', 'reviewer_id', 'reviewer_name'], axis=1, inplace=True)\n",
    "\n",
    "reviews_sample['comments_processed'] = reviews_sample['comments'].apply(lambda x: re.sub('[,\\.!?]', '', str(x)))\n",
    "reviews_sample['comments_processed'] = reviews_sample['comments'].map(lambda x: re.sub('brbr', ' ', re.sub('[^a-zA-Z ]', '', str(x)))) \n",
    "reviews_sample['comments_processed'] = reviews_sample['comments_processed'].map(lambda x: x.lower())"
   ]
  },
  {
   "cell_type": "code",
   "execution_count": 6,
   "metadata": {},
   "outputs": [
    {
     "data": {
      "text/html": [
       "<div>\n",
       "<style scoped>\n",
       "    .dataframe tbody tr th:only-of-type {\n",
       "        vertical-align: middle;\n",
       "    }\n",
       "\n",
       "    .dataframe tbody tr th {\n",
       "        vertical-align: top;\n",
       "    }\n",
       "\n",
       "    .dataframe thead th {\n",
       "        text-align: right;\n",
       "    }\n",
       "</style>\n",
       "<table border=\"1\" class=\"dataframe\">\n",
       "  <thead>\n",
       "    <tr style=\"text-align: right;\">\n",
       "      <th></th>\n",
       "      <th>listing_id</th>\n",
       "      <th>date</th>\n",
       "      <th>comments</th>\n",
       "      <th>comments_processed</th>\n",
       "    </tr>\n",
       "  </thead>\n",
       "  <tbody>\n",
       "    <tr>\n",
       "      <th>0</th>\n",
       "      <td>13913</td>\n",
       "      <td>2010-08-18</td>\n",
       "      <td>My girlfriend and I hadn't known Alina before ...</td>\n",
       "      <td>my girlfriend and i hadnt known alina before w...</td>\n",
       "    </tr>\n",
       "    <tr>\n",
       "      <th>20</th>\n",
       "      <td>13913</td>\n",
       "      <td>2020-02-22</td>\n",
       "      <td>Outstanding host. Got along great.</td>\n",
       "      <td>outstanding host got along great</td>\n",
       "    </tr>\n",
       "    <tr>\n",
       "      <th>19</th>\n",
       "      <td>13913</td>\n",
       "      <td>2019-11-25</td>\n",
       "      <td>Alina’s place is great! It’s very stylish and ...</td>\n",
       "      <td>alinas place is great its very stylish and cos...</td>\n",
       "    </tr>\n",
       "    <tr>\n",
       "      <th>18</th>\n",
       "      <td>13913</td>\n",
       "      <td>2019-10-07</td>\n",
       "      <td>Felt at home - Alina is an excellent host - ve...</td>\n",
       "      <td>felt at home  alina is an excellent host  very...</td>\n",
       "    </tr>\n",
       "    <tr>\n",
       "      <th>17</th>\n",
       "      <td>13913</td>\n",
       "      <td>2019-10-02</td>\n",
       "      <td>Alina is a very relaxed and friendly host who ...</td>\n",
       "      <td>alina is a very relaxed and friendly host who ...</td>\n",
       "    </tr>\n",
       "    <tr>\n",
       "      <th>...</th>\n",
       "      <td>...</td>\n",
       "      <td>...</td>\n",
       "      <td>...</td>\n",
       "      <td>...</td>\n",
       "    </tr>\n",
       "    <tr>\n",
       "      <th>1042999</th>\n",
       "      <td>53622933</td>\n",
       "      <td>2021-12-05</td>\n",
       "      <td>Gregory is an absolutely amazing host! He went...</td>\n",
       "      <td>gregory is an absolutely amazing host he went ...</td>\n",
       "    </tr>\n",
       "    <tr>\n",
       "      <th>1043000</th>\n",
       "      <td>53629457</td>\n",
       "      <td>2021-12-04</td>\n",
       "      <td>Those considering the aptm as a last minute bo...</td>\n",
       "      <td>those considering the aptm as a last minute bo...</td>\n",
       "    </tr>\n",
       "    <tr>\n",
       "      <th>1043001</th>\n",
       "      <td>53656459</td>\n",
       "      <td>2021-12-06</td>\n",
       "      <td>One of the worst places I have ever stayed... ...</td>\n",
       "      <td>one of the worst places i have ever stayed ver...</td>\n",
       "    </tr>\n",
       "    <tr>\n",
       "      <th>1043002</th>\n",
       "      <td>53657036</td>\n",
       "      <td>2021-12-05</td>\n",
       "      <td>An exceptional little apartment for a short st...</td>\n",
       "      <td>an exceptional little apartment for a short st...</td>\n",
       "    </tr>\n",
       "    <tr>\n",
       "      <th>1043003</th>\n",
       "      <td>53673183</td>\n",
       "      <td>2021-12-06</td>\n",
       "      <td>This place is a true gem and needle in the hay...</td>\n",
       "      <td>this place is a true gem and needle in the hay...</td>\n",
       "    </tr>\n",
       "  </tbody>\n",
       "</table>\n",
       "<p>1043004 rows × 4 columns</p>\n",
       "</div>"
      ],
      "text/plain": [
       "         listing_id        date  \\\n",
       "0             13913  2010-08-18   \n",
       "20            13913  2020-02-22   \n",
       "19            13913  2019-11-25   \n",
       "18            13913  2019-10-07   \n",
       "17            13913  2019-10-02   \n",
       "...             ...         ...   \n",
       "1042999    53622933  2021-12-05   \n",
       "1043000    53629457  2021-12-04   \n",
       "1043001    53656459  2021-12-06   \n",
       "1043002    53657036  2021-12-05   \n",
       "1043003    53673183  2021-12-06   \n",
       "\n",
       "                                                  comments  \\\n",
       "0        My girlfriend and I hadn't known Alina before ...   \n",
       "20                      Outstanding host. Got along great.   \n",
       "19       Alina’s place is great! It’s very stylish and ...   \n",
       "18       Felt at home - Alina is an excellent host - ve...   \n",
       "17       Alina is a very relaxed and friendly host who ...   \n",
       "...                                                    ...   \n",
       "1042999  Gregory is an absolutely amazing host! He went...   \n",
       "1043000  Those considering the aptm as a last minute bo...   \n",
       "1043001  One of the worst places I have ever stayed... ...   \n",
       "1043002  An exceptional little apartment for a short st...   \n",
       "1043003  This place is a true gem and needle in the hay...   \n",
       "\n",
       "                                        comments_processed  \n",
       "0        my girlfriend and i hadnt known alina before w...  \n",
       "20                        outstanding host got along great  \n",
       "19       alinas place is great its very stylish and cos...  \n",
       "18       felt at home  alina is an excellent host  very...  \n",
       "17       alina is a very relaxed and friendly host who ...  \n",
       "...                                                    ...  \n",
       "1042999  gregory is an absolutely amazing host he went ...  \n",
       "1043000  those considering the aptm as a last minute bo...  \n",
       "1043001  one of the worst places i have ever stayed ver...  \n",
       "1043002  an exceptional little apartment for a short st...  \n",
       "1043003  this place is a true gem and needle in the hay...  \n",
       "\n",
       "[1043004 rows x 4 columns]"
      ]
     },
     "execution_count": 6,
     "metadata": {},
     "output_type": "execute_result"
    }
   ],
   "source": [
    "reviews_sample"
   ]
  },
  {
   "cell_type": "markdown",
   "metadata": {},
   "source": [
    "### Step 3: Frequency counter"
   ]
  },
  {
   "cell_type": "code",
   "execution_count": 15,
   "metadata": {},
   "outputs": [],
   "source": [
    "#----- set variables \n",
    "topic_frequency={'0':[],\"1\":[],\"2\":[],\"3\":[],\"4\":[],\"5\":[],\"6\":[],\"7\":[],\"8\":[],\"9\":[],\"10\":[],\"11\":[],\"12\":[],\"13\":[],\"14\":[],\"15\":[],\"16\":[],\"17\":[],\"18\":[],\"19\":[]}\n",
    "\n",
    "id=[]\n",
    "\n",
    "#----- Start frequency count\n",
    "for row in range():\n",
    "    id.append(reviews_sample.iloc[row][\"listing_id\"])\n",
    "    for topic in range(20):\n",
    "        c=0\n",
    "        for word in reviews_sample.iloc[row][\"comments_processed\"].split():\n",
    "            if word in topics[\"Topic_\"+str(topic+1)].tolist():\n",
    "                c+=1\n",
    "        topic_frequency[str(topic)].append(c)\n",
    "        \n",
    "# Incorporate id in the data\n",
    "topic_frequency[\"id\"]=id\n",
    "\n",
    "#Dataframe creation\n",
    "topic_frequency=pd.DataFrame(data=topic_frequency)\n",
    "\n",
    "#groupby and sum\n",
    "topic_frequency= topic_frequency.groupby(by=[\"id\"]).sum()"
   ]
  },
  {
   "cell_type": "code",
   "execution_count": 19,
   "metadata": {},
   "outputs": [],
   "source": [
    "topic_frequency.to_csv('C:/Users/chris/Desktop/topics_frequency.csv')"
   ]
  },
  {
   "cell_type": "markdown",
   "metadata": {},
   "source": [
    "### Step 4: Filtering and Merging"
   ]
  },
  {
   "cell_type": "code",
   "execution_count": 29,
   "metadata": {},
   "outputs": [],
   "source": [
    "topic_frequency[\"Avg\"]=topic_frequency.mean(axis=1)\n",
    "topic_frequency.sort_values(by=\"Avg\",inplace=True)\n",
    "topic_frequency_join= topic_frequency[(topic_frequency[\"Avg\"]>=10) & (topic_frequency[\"Avg\"]<=500)]\n",
    "\n",
    "\n",
    "df_out=pd.merge(topic_frequency_join,listings,on=\"id\").rename(columns={\"0\":\"Topic 0\",\n",
    "                                                         \"1\":\"Topic 1\",\n",
    "                                                         \"2\":\"Topic 2\",\n",
    "                                                         \"3\":\"Topic 3\",\n",
    "                                                         \"4\":\"Topic 4\",\n",
    "                                                         \"5\":\"Topic 5\",\n",
    "                                                        \"6\":\"Topic 6\",\n",
    "                                                                 \"7\":\"Topic 7\",\n",
    "                                                                 \"8\":\"Topic 8\",\n",
    "                                                                 \"9\":\"Topic 9\",\n",
    "                                                                 \"10\":\"Topic 10\",\n",
    "                                                                 \"11\":\"Topic 11\",\n",
    "                                                                 \"12\":\"Topic 12\",\n",
    "                                                                 \"13\":\"Topic 13\",\n",
    "                                                                 \"14\":\"Topic 14\",\n",
    "                                                                 \"15\":\"Topic 15\",\n",
    "                                                                 \"16\":\"Topic 16\",\n",
    "                                                                 \"17\":\"Topic 17\",\n",
    "                                                                 \"18\":\"Topic 18\",\n",
    "                                                                 \"19\":\"Topic 19\",\n",
    "                                                                 \"20\":\"Topic 20\",})\n",
    "topic_frequency.rename(columns={\"0\":\"Topic 0\",\n",
    "                 \"1\":\"Topic 1\",\n",
    "                 \"2\":\"Topic 2\",\n",
    "                 \"3\":\"Topic 3\",\n",
    "                 \"4\":\"Topic 4\",\n",
    "                 \"5\":\"Topic 5\",\n",
    "                \"6\":\"Topic 6\",\n",
    "                 \"7\":\"Topic 7\",\n",
    "                 \"8\":\"Topic 8\",\n",
    "                 \"9\":\"Topic 9\",\n",
    "                 \"10\":\"Topic 10\",\n",
    "                 \"11\":\"Topic 11\",\n",
    "                 \"12\":\"Topic 12\",\n",
    "                 \"13\":\"Topic 13\",\n",
    "                 \"14\":\"Topic 14\",\n",
    "                 \"15\":\"Topic 15\",\n",
    "                 \"16\":\"Topic 16\",\n",
    "                 \"17\":\"Topic 17\",\n",
    "                 \"18\":\"Topic 18\",\n",
    "                 \"19\":\"Topic 19\",\n",
    "                 \"20\":\"Topic 20\",}).to_csv('C:/Users/chris/Desktop/Listings+Frequency_Complete.csv')"
   ]
  },
  {
   "cell_type": "markdown",
   "metadata": {},
   "source": [
    "### Step 5: Saving the dataframe"
   ]
  },
  {
   "cell_type": "code",
   "execution_count": 32,
   "metadata": {},
   "outputs": [],
   "source": [
    "df_out.to_csv('C:/Users/chris/Desktop/Listings+Frequency_Reduced.csv')"
   ]
  }
 ],
 "metadata": {
  "kernelspec": {
   "display_name": "Python 3 (ipykernel)",
   "language": "python",
   "name": "python3"
  },
  "language_info": {
   "codemirror_mode": {
    "name": "ipython",
    "version": 3
   },
   "file_extension": ".py",
   "mimetype": "text/x-python",
   "name": "python",
   "nbconvert_exporter": "python",
   "pygments_lexer": "ipython3",
   "version": "3.9.7"
  }
 },
 "nbformat": 4,
 "nbformat_minor": 4
}
